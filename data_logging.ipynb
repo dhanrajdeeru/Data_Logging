{
 "cells": [
  {
   "cell_type": "code",
   "execution_count": 25,
   "metadata": {},
   "outputs": [
    {
     "name": "stdout",
     "output_type": "stream",
     "text": [
      "1. Enter the new info(press:1) : \n",
      "2.Exit(press: 2)\n",
      "1\n",
      "1. Name(press enter)  2.Phone_Number(press enter)  3.Place(press enter)  4.Body_temperature(press enter)\n",
      "Raj\n",
      "2347894561\n",
      "Mangalore\n",
      "97.8\n",
      "1. Enter the new info(press:1) : \n",
      "2.Exit(press: 2)\n",
      "1\n",
      "1. Name(press enter)  2.Phone_Number(press enter)  3.Place(press enter)  4.Body_temperature(press enter)\n",
      "Jaddu\n",
      "7894561234\n",
      "Chennai\n",
      "97.7\n",
      "1. Enter the new info(press:1) : \n",
      "2.Exit(press: 2)\n",
      "1\n",
      "1. Name(press enter)  2.Phone_Number(press enter)  3.Place(press enter)  4.Body_temperature(press enter)\n",
      "Chikku\n",
      "1234987652\n",
      "Delhi\n",
      "98.1\n",
      "1. Enter the new info(press:1) : \n",
      "2.Exit(press: 2)\n",
      "2\n",
      "2021-05-20 16:26:53,007:DEBUG:: First Name   : Phone_Number  : Place  : Body_temperature\n",
      "2021-05-20 16:35:13,400:DEBUG:: First Name   : Phone_Number  : Place  : Body_temperature\n",
      "2021-05-20 16:38:33,212:DEBUG:virat:123456789:delhi;97.8\n",
      "2021-05-20 16:38:40,522:DEBUG:: First Name   : Phone_Number  : Place  : Body_temperature\n",
      "2021-05-20 16:40:20,418:DEBUG::virat\t:1234768954\t:deharadun\t:97.8\n",
      "2021-05-20 16:40:22,969:DEBUG:: First Name   : Phone_Number  : Place  : Body_temperature\n",
      "2021-05-20 16:42:46,091:DEBUG::singh\t:4444555521\t:andhra\t:98.1\n",
      "2021-05-20 16:42:47,802:DEBUG:: First Name   : Phone_Number  : Place  : Body_temperature\n",
      "2021-05-20 16:43:58,622:DEBUG::virat\t:123456789\t:delhi\t:97.7\n",
      "2021-05-20 16:44:00,006:DEBUG:: First Name   : Phone_Number  : Place  : Body_temperature\n",
      "2021-05-20 19:58:52,177:DEBUG::gangu\t:123456789\t:mandya\t:97.8\n",
      "2021-05-20 20:01:06,071:DEBUG::Raj\t:2347894561\t:Mangalore\t:97.8\n",
      "2021-05-20 20:01:41,967:DEBUG::Jaddu\t:7894561234\t:Chennai\t:97.7\n",
      "2021-05-20 20:02:39,410:DEBUG::Chikku\t:1234987652\t:Delhi\t:98.1\n",
      "\n"
     ]
    }
   ],
   "source": [
    "import logging\n",
    "logging.basicConfig(filename='log_file.txt',level=logging.DEBUG,format='%(asctime)s:%(levelname)s:%(message)s')\n",
    "\n",
    "contents = [['jason',123456789,'mangalore',97.7],\n",
    "            ['roy',234567891,'dubai',97.8]]\n",
    "value = True\n",
    "while(value == True):\n",
    "    print('1. Enter the new info(press:1) : \\n2.Exit(press: 2)')\n",
    "    signin = int(input())\n",
    "    if( signin == 1):\n",
    "        print('1. Name(press enter)  2.Phone_Number(press enter)  3.Place(press enter)  4.Body_temperature(press enter)')\n",
    "        name = input()\n",
    "        ph = int(input())\n",
    "        place = input()\n",
    "        temp = float(input())\n",
    "        var=[name,ph,place,temp]\n",
    "        contents.append(var)\n",
    "        logging.debug(':{}\\t:{}\\t:{}\\t:{}'.format(name,ph,place,temp))\n",
    "    else:\n",
    "        value=False\n",
    "file=open('log_file.txt','r')\n",
    "print(file.read())\n",
    "file.close()\n",
    "    "
   ]
  },
  {
   "cell_type": "code",
   "execution_count": null,
   "metadata": {},
   "outputs": [],
   "source": []
  },
  {
   "cell_type": "code",
   "execution_count": null,
   "metadata": {},
   "outputs": [],
   "source": []
  }
 ],
 "metadata": {
  "kernelspec": {
   "display_name": "Python 3",
   "language": "python",
   "name": "python3"
  },
  "language_info": {
   "codemirror_mode": {
    "name": "ipython",
    "version": 3
   },
   "file_extension": ".py",
   "mimetype": "text/x-python",
   "name": "python",
   "nbconvert_exporter": "python",
   "pygments_lexer": "ipython3",
   "version": "3.8.5"
  }
 },
 "nbformat": 4,
 "nbformat_minor": 4
}
